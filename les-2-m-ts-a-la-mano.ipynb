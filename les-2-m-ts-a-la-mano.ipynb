{
 "cells": [
  {
   "cell_type": "code",
   "execution_count": 1,
   "id": "c20bcd23",
   "metadata": {
    "_cell_guid": "b1076dfc-b9ad-4769-8c92-a6c4dae69d19",
    "_uuid": "8f2839f25d086af736a60e9eeb907d3b93b6e0e5",
    "execution": {
     "iopub.execute_input": "2023-05-24T17:33:03.798834Z",
     "iopub.status.busy": "2023-05-24T17:33:03.798263Z",
     "iopub.status.idle": "2023-05-24T17:33:03.812048Z",
     "shell.execute_reply": "2023-05-24T17:33:03.811014Z"
    },
    "papermill": {
     "duration": 0.027692,
     "end_time": "2023-05-24T17:33:03.814413",
     "exception": false,
     "start_time": "2023-05-24T17:33:03.786721",
     "status": "completed"
    },
    "tags": []
   },
   "outputs": [],
   "source": [
    "# This Python 3 environment comes with many helpful analytics libraries installed\n",
    "# It is defined by the kaggle/python Docker image: https://github.com/kaggle/docker-python\n",
    "# For example, here's several helpful packages to load\n",
    "\n",
    "import numpy as np # linear algebra\n",
    "import pandas as pd # data processing, CSV file I/O (e.g. pd.read_csv)\n",
    "\n",
    "# Input data files are available in the read-only \"../input/\" directory\n",
    "# For example, running this (by clicking run or pressing Shift+Enter) will list all files under the input directory\n",
    "\n",
    "import os\n",
    "#for dirname, _, filenames in os.walk('/kaggle/input'):\n",
    "#    for filename in filenames:\n",
    "#        print(os.path.join(dirname, filename))\n",
    "#        pass\n",
    "\n",
    "# You can write up to 20GB to the current directory (/kaggle/working/) that gets preserved as output when you create a version using \"Save & Run All\" \n",
    "# You can also write temporary files to /kaggle/temp/, but they won't be saved outside of the current session"
   ]
  },
  {
   "cell_type": "code",
   "execution_count": 2,
   "id": "8dc34db6",
   "metadata": {
    "execution": {
     "iopub.execute_input": "2023-05-24T17:33:03.833364Z",
     "iopub.status.busy": "2023-05-24T17:33:03.832450Z",
     "iopub.status.idle": "2023-05-24T17:33:12.512301Z",
     "shell.execute_reply": "2023-05-24T17:33:12.511158Z"
    },
    "papermill": {
     "duration": 8.691915,
     "end_time": "2023-05-24T17:33:12.515042",
     "exception": false,
     "start_time": "2023-05-24T17:33:03.823127",
     "status": "completed"
    },
    "tags": []
   },
   "outputs": [],
   "source": [
    "import matplotlib.pyplot as plt\n",
    "import tensorflow as tf\n",
    "import time\n",
    "\n",
    "SEED = 420\n",
    "np.random.seed(SEED)\n",
    "tf.random.set_seed(SEED)"
   ]
  },
  {
   "cell_type": "code",
   "execution_count": 3,
   "id": "8daa21fd",
   "metadata": {
    "execution": {
     "iopub.execute_input": "2023-05-24T17:33:12.534956Z",
     "iopub.status.busy": "2023-05-24T17:33:12.533633Z",
     "iopub.status.idle": "2023-05-24T17:33:13.505994Z",
     "shell.execute_reply": "2023-05-24T17:33:13.504719Z"
    },
    "papermill": {
     "duration": 0.984629,
     "end_time": "2023-05-24T17:33:13.508716",
     "exception": false,
     "start_time": "2023-05-24T17:33:12.524087",
     "status": "completed"
    },
    "tags": []
   },
   "outputs": [
    {
     "name": "stdout",
     "output_type": "stream",
     "text": [
      "__notebook__.ipynb\r\n"
     ]
    }
   ],
   "source": [
    "!ls /kaggle/working"
   ]
  },
  {
   "cell_type": "markdown",
   "id": "b78020a0",
   "metadata": {
    "papermill": {
     "duration": 0.0085,
     "end_time": "2023-05-24T17:33:13.526150",
     "exception": false,
     "start_time": "2023-05-24T17:33:13.517650",
     "status": "completed"
    },
    "tags": []
   },
   "source": [
    "## Lire les images"
   ]
  },
  {
   "cell_type": "code",
   "execution_count": 4,
   "id": "31f8aab4",
   "metadata": {
    "execution": {
     "iopub.execute_input": "2023-05-24T17:33:13.544741Z",
     "iopub.status.busy": "2023-05-24T17:33:13.544376Z",
     "iopub.status.idle": "2023-05-24T17:33:17.528222Z",
     "shell.execute_reply": "2023-05-24T17:33:17.526950Z"
    },
    "papermill": {
     "duration": 3.996378,
     "end_time": "2023-05-24T17:33:17.531112",
     "exception": false,
     "start_time": "2023-05-24T17:33:13.534734",
     "status": "completed"
    },
    "tags": []
   },
   "outputs": [],
   "source": [
    "gpu = tf.config.list_logical_devices('GPU')\n",
    "strategy = tf.distribute.MirroredStrategy(gpu)\n",
    "\n",
    "#tpu = tf.distribute.cluster_resolver.TPUClusterResolver.connect()\n",
    "#strategy = tf.distribute.experimental.TPUStrategy(tpu)\n",
    "\n",
    "IMG_SHAPE = (16, 24, 3)\n",
    "\n",
    "BATCH_SIZE = 32\n",
    "AUTO = tf.data.AUTOTUNE"
   ]
  },
  {
   "cell_type": "code",
   "execution_count": 5,
   "id": "cb901ddf",
   "metadata": {
    "execution": {
     "iopub.execute_input": "2023-05-24T17:33:17.550461Z",
     "iopub.status.busy": "2023-05-24T17:33:17.550132Z",
     "iopub.status.idle": "2023-05-24T17:33:17.554891Z",
     "shell.execute_reply": "2023-05-24T17:33:17.553748Z"
    },
    "papermill": {
     "duration": 0.017745,
     "end_time": "2023-05-24T17:33:17.557780",
     "exception": false,
     "start_time": "2023-05-24T17:33:17.540035",
     "status": "completed"
    },
    "tags": []
   },
   "outputs": [],
   "source": [
    "working_dir = '/kaggle/input/navires-2023-la-mano/'\n",
    "data_dir = working_dir + 'ships16x24/ships_16x24_10cat/data'"
   ]
  },
  {
   "cell_type": "code",
   "execution_count": 6,
   "id": "6df2098e",
   "metadata": {
    "execution": {
     "iopub.execute_input": "2023-05-24T17:33:17.577686Z",
     "iopub.status.busy": "2023-05-24T17:33:17.577374Z",
     "iopub.status.idle": "2023-05-24T17:33:17.586959Z",
     "shell.execute_reply": "2023-05-24T17:33:17.585783Z"
    },
    "papermill": {
     "duration": 0.021519,
     "end_time": "2023-05-24T17:33:17.589322",
     "exception": false,
     "start_time": "2023-05-24T17:33:17.567803",
     "status": "completed"
    },
    "tags": []
   },
   "outputs": [
    {
     "name": "stdout",
     "output_type": "stream",
     "text": [
      "['methanier_scaled', 'corvette_scaled', 'containership_scaled', 'cruiser_scaled', 'cv_scaled', 'coastguard_scaled', 'destroyer_scaled', 'smallfish_scaled', 'submarine_scaled', 'tug_scaled']\n",
      "10\n"
     ]
    }
   ],
   "source": [
    "classes = os.listdir(data_dir)\n",
    "print(classes)\n",
    "num_classes = len(classes)\n",
    "print(num_classes)"
   ]
  },
  {
   "cell_type": "markdown",
   "id": "4033f40b",
   "metadata": {
    "papermill": {
     "duration": 0.00935,
     "end_time": "2023-05-24T17:33:17.607192",
     "exception": false,
     "start_time": "2023-05-24T17:33:17.597842",
     "status": "completed"
    },
    "tags": []
   },
   "source": [
    "# Analyse and Preprocess Data"
   ]
  },
  {
   "cell_type": "code",
   "execution_count": 7,
   "id": "89121bad",
   "metadata": {
    "execution": {
     "iopub.execute_input": "2023-05-24T17:33:17.626303Z",
     "iopub.status.busy": "2023-05-24T17:33:17.625980Z",
     "iopub.status.idle": "2023-05-24T17:33:18.882721Z",
     "shell.execute_reply": "2023-05-24T17:33:18.881474Z"
    },
    "papermill": {
     "duration": 1.26915,
     "end_time": "2023-05-24T17:33:18.885363",
     "exception": false,
     "start_time": "2023-05-24T17:33:17.616213",
     "status": "completed"
    },
    "tags": []
   },
   "outputs": [
    {
     "name": "stdout",
     "output_type": "stream",
     "text": [
      "class    coastguard_scaled\n",
      "size                1827.0\n",
      "dtype: object\n",
      "class    tug_scaled\n",
      "size         5454.0\n",
      "dtype: object\n"
     ]
    },
    {
     "data": {
      "image/png": "[encoded data removed]",
      "text/plain": [
       "<Figure size 640x480 with 1 Axes>"
      ]
     },
     "metadata": {},
     "output_type": "display_data"
    }
   ],
   "source": [
    "num_files = []\n",
    "for classe in classes:\n",
    "    num_files = np.append(num_files, len(os.listdir(os.path.join(data_dir, classe))))\n",
    "    \n",
    "df = pd.DataFrame()\n",
    "df['class'] = classes\n",
    "df['size'] = num_files\n",
    "df.plot(kind='bar')\n",
    "\n",
    "min_size = df.min()\n",
    "print(min_size)\n",
    "max_size = df.max()\n",
    "print(max_size)"
   ]
  },
  {
   "cell_type": "markdown",
   "id": "fea05c05",
   "metadata": {
    "papermill": {
     "duration": 0.010344,
     "end_time": "2023-05-24T17:33:18.906064",
     "exception": false,
     "start_time": "2023-05-24T17:33:18.895720",
     "status": "completed"
    },
    "tags": []
   },
   "source": [
    "As we can see, the data is not homogenious, so we need to rebuilt it to have the same amount for each class, we do so because when we train with all the dataset, we have an overfitting."
   ]
  },
  {
   "cell_type": "markdown",
   "id": "7dccc8db",
   "metadata": {
    "papermill": {
     "duration": 0.010217,
     "end_time": "2023-05-24T17:33:18.927065",
     "exception": false,
     "start_time": "2023-05-24T17:33:18.916848",
     "status": "completed"
    },
    "tags": []
   },
   "source": [
    "## Class weights"
   ]
  },
  {
   "cell_type": "code",
   "execution_count": 8,
   "id": "c8b576d2",
   "metadata": {
    "execution": {
     "iopub.execute_input": "2023-05-24T17:33:18.950264Z",
     "iopub.status.busy": "2023-05-24T17:33:18.949217Z",
     "iopub.status.idle": "2023-05-24T17:33:18.957197Z",
     "shell.execute_reply": "2023-05-24T17:33:18.955844Z"
    },
    "papermill": {
     "duration": 0.022563,
     "end_time": "2023-05-24T17:33:18.959988",
     "exception": false,
     "start_time": "2023-05-24T17:33:18.937425",
     "status": "completed"
    },
    "tags": []
   },
   "outputs": [],
   "source": [
    "total = df['size'].sum()\n",
    "weights = (1 / df['size']) * (total / num_classes)\n",
    "class_weight = weights.to_dict()"
   ]
  },
  {
   "cell_type": "code",
   "execution_count": 9,
   "id": "5f4c96b9",
   "metadata": {
    "execution": {
     "iopub.execute_input": "2023-05-24T17:33:18.983038Z",
     "iopub.status.busy": "2023-05-24T17:33:18.982701Z",
     "iopub.status.idle": "2023-05-24T17:33:35.122420Z",
     "shell.execute_reply": "2023-05-24T17:33:35.121327Z"
    },
    "papermill": {
     "duration": 16.153775,
     "end_time": "2023-05-24T17:33:35.125240",
     "exception": false,
     "start_time": "2023-05-24T17:33:18.971465",
     "status": "completed"
    },
    "tags": []
   },
   "outputs": [
    {
     "name": "stdout",
     "output_type": "stream",
     "text": [
      "Found 31968 images belonging to 10 classes.\n",
      "Found 3547 images belonging to 10 classes.\n"
     ]
    }
   ],
   "source": [
    "train_datagen = tf.keras.preprocessing.image.ImageDataGenerator(\n",
    "        rescale=1./255,\n",
    "        #rotation_range=10,\n",
    "        #width_shift_range=0.2,\n",
    "        #height_shift_range=0.2,\n",
    "        horizontal_flip=True,\n",
    "        brightness_range=(0.5,1.0),\n",
    "        #shear_range=20.0,\n",
    "        #channel_shift_range=20.0,\n",
    "        validation_split=0.1)\n",
    "\n",
    "train_generator = train_datagen.flow_from_directory(\n",
    "        data_dir,\n",
    "        target_size=(IMG_SHAPE[0], IMG_SHAPE[1]),\n",
    "        batch_size=BATCH_SIZE,\n",
    "        seed=SEED,\n",
    "        subset=\"training\",\n",
    "        class_mode='categorical')\n",
    "\n",
    "validation_generator = train_datagen.flow_from_directory(\n",
    "        data_dir,\n",
    "        target_size=(IMG_SHAPE[0], IMG_SHAPE[1]),\n",
    "        batch_size=BATCH_SIZE,\n",
    "        seed=SEED,\n",
    "        subset=\"validation\",\n",
    "        class_mode='categorical')"
   ]
  },
  {
   "cell_type": "code",
   "execution_count": 10,
   "id": "e324feef",
   "metadata": {
    "execution": {
     "iopub.execute_input": "2023-05-24T17:33:35.146363Z",
     "iopub.status.busy": "2023-05-24T17:33:35.145391Z",
     "iopub.status.idle": "2023-05-24T17:33:35.153951Z",
     "shell.execute_reply": "2023-05-24T17:33:35.152660Z"
    },
    "papermill": {
     "duration": 0.021156,
     "end_time": "2023-05-24T17:33:35.156243",
     "exception": false,
     "start_time": "2023-05-24T17:33:35.135087",
     "status": "completed"
    },
    "tags": []
   },
   "outputs": [],
   "source": [
    "def plot_generator(generator):\n",
    "\n",
    "    labels = generator.class_indices\n",
    "    plt.figure(figsize=(14,10))\n",
    "  \n",
    "    # Get images and labels from the next batch\n",
    "    img, lbls = generator.next()\n",
    "    print(f'Batch size: {img.shape[0]}\\nImage size: {img.shape[1]} x {img.shape[2]}\\nCanals number: {img.shape[3]}')\n",
    "\n",
    "    for i in range(9):\n",
    "        plt.subplot(3, 3, i + 1)\n",
    "        num_class = np.where(lbls[i] == 1)[0][0]\n",
    "        plt.title(list(labels.keys())[list(labels.values()).index(num_class)])\n",
    "        plt.imshow(img[i])\n",
    "    plt.show()\n",
    "\n",
    "    generator.reset()"
   ]
  },
  {
   "cell_type": "code",
   "execution_count": 11,
   "id": "ed4e9ea7",
   "metadata": {
    "execution": {
     "iopub.execute_input": "2023-05-24T17:33:35.175457Z",
     "iopub.status.busy": "2023-05-24T17:33:35.174986Z",
     "iopub.status.idle": "2023-05-24T17:33:36.580686Z",
     "shell.execute_reply": "2023-05-24T17:33:36.579593Z"
    },
    "papermill": {
     "duration": 1.41803,
     "end_time": "2023-05-24T17:33:36.583147",
     "exception": false,
     "start_time": "2023-05-24T17:33:35.165117",
     "status": "completed"
    },
    "tags": []
   },
   "outputs": [
    {
     "name": "stdout",
     "output_type": "stream",
     "text": [
      "Batch size: 32\n",
      "Image size: 16 x 24\n",
      "Canals number: 3\n"
     ]
    },
    {
     "data": {
      "image/png": "[encoded data removed]",
      "text/plain": [
       "<Figure size 1400x1000 with 9 Axes>"
      ]
     },
     "metadata": {},
     "output_type": "display_data"
    }
   ],
   "source": [
    "plot_generator(train_generator)"
   ]
  },
  {
   "cell_type": "code",
   "execution_count": 12,
   "id": "ab16e859",
   "metadata": {
    "execution": {
     "iopub.execute_input": "2023-05-24T17:33:36.607019Z",
     "iopub.status.busy": "2023-05-24T17:33:36.606110Z",
     "iopub.status.idle": "2023-05-24T17:33:36.616466Z",
     "shell.execute_reply": "2023-05-24T17:33:36.615427Z"
    },
    "papermill": {
     "duration": 0.025288,
     "end_time": "2023-05-24T17:33:36.618851",
     "exception": false,
     "start_time": "2023-05-24T17:33:36.593563",
     "status": "completed"
    },
    "tags": []
   },
   "outputs": [],
   "source": [
    "def plot_result():\n",
    "    acc = history.history['accuracy']\n",
    "    val_acc = history.history['val_accuracy']\n",
    "\n",
    "    loss = history.history['loss']\n",
    "    val_loss = history.history['val_loss']\n",
    "\n",
    "    epochs_range = range(EPOCHS)\n",
    "\n",
    "    plt.figure(figsize=(8, 8))\n",
    "    plt.subplot(1, 2, 1)\n",
    "    plt.plot(epochs_range, acc, label='Training Accuracy')\n",
    "    plt.plot(epochs_range, val_acc, label='Validation Accuracy')\n",
    "    plt.legend(loc='lower right')\n",
    "    plt.title('Training and Validation Accuracy')\n",
    "\n",
    "    plt.subplot(1, 2, 2)\n",
    "    plt.plot(epochs_range, loss, label='Training Loss')\n",
    "    plt.plot(epochs_range, val_loss, label='Validation Loss')\n",
    "    plt.legend(loc='upper right')\n",
    "    plt.title('Training and Validation Loss')\n",
    "    plt.show()"
   ]
  },
  {
   "cell_type": "code",
   "execution_count": 13,
   "id": "f1c31fa5",
   "metadata": {
    "execution": {
     "iopub.execute_input": "2023-05-24T17:33:36.641950Z",
     "iopub.status.busy": "2023-05-24T17:33:36.641601Z",
     "iopub.status.idle": "2023-05-24T17:33:36.655540Z",
     "shell.execute_reply": "2023-05-24T17:33:36.654481Z"
    },
    "papermill": {
     "duration": 0.028443,
     "end_time": "2023-05-24T17:33:36.658172",
     "exception": false,
     "start_time": "2023-05-24T17:33:36.629729",
     "status": "completed"
    },
    "tags": []
   },
   "outputs": [],
   "source": [
    "import math\n",
    "\n",
    "class SGDRScheduler(tf.keras.callbacks.Callback):\n",
    "    def __init__(self, initial_lr, lr_decay, t_mult, epochs_per_restart, monitor='val_loss'):\n",
    "        super(SGDRScheduler, self).__init__()\n",
    "        self.initial_lr = initial_lr\n",
    "        self.lr_decay = lr_decay\n",
    "        self.t_mult = t_mult\n",
    "        self.epochs_per_restart = epochs_per_restart\n",
    "        self.monitor = monitor\n",
    "        self.best_score = float('inf')\n",
    "        self.current_lr = initial_lr\n",
    "        self.epochs_since_restart = 0\n",
    "        self.total_epochs = 0\n",
    "        self.history = {}\n",
    "        \n",
    "    def on_epoch_end(self, epoch, logs={}):\n",
    "        self.total_epochs += 1\n",
    "        self.epochs_since_restart += 1\n",
    "        \n",
    "        if self.monitor in logs:\n",
    "            score = logs[self.monitor]\n",
    "            if score < self.best_score:\n",
    "                self.best_score = score\n",
    "                \n",
    "        if self.epochs_since_restart >= self.epochs_per_restart:\n",
    "            self.current_lr = self.current_lr * self.lr_decay\n",
    "            self.epochs_since_restart = 0\n",
    "            \n",
    "            self.model.optimizer.lr.assign(self.current_lr)\n",
    "            \n",
    "            print(f\"\\nLearning rate set to {self.current_lr}\")\n",
    "            \n",
    "            self.history['lr'] = self.history.get('lr', []) + [self.current_lr]\n",
    "            self.history['epochs'] = self.history.get('epochs', []) + [self.total_epochs]\n",
    "            \n",
    "    def on_train_end(self, logs=None):\n",
    "        self.model.optimizer.lr.assign(self.initial_lr)\n",
    "        print(f\"\\nFinal learning rate set to {self.initial_lr}\")"
   ]
  },
  {
   "cell_type": "code",
   "execution_count": 14,
   "id": "35fecf6f",
   "metadata": {
    "execution": {
     "iopub.execute_input": "2023-05-24T17:33:36.680017Z",
     "iopub.status.busy": "2023-05-24T17:33:36.679730Z",
     "iopub.status.idle": "2023-05-24T17:33:36.690287Z",
     "shell.execute_reply": "2023-05-24T17:33:36.689128Z"
    },
    "papermill": {
     "duration": 0.02413,
     "end_time": "2023-05-24T17:33:36.692453",
     "exception": false,
     "start_time": "2023-05-24T17:33:36.668323",
     "status": "completed"
    },
    "tags": []
   },
   "outputs": [],
   "source": [
    "import copy\n",
    "class LearningRateScheduler(tf.keras.callbacks.Callback):\n",
    "    def __init__(self, init_lr, factor, patience):\n",
    "        super(LearningRateScheduler, self).__init__()\n",
    "        self.init_lr = init_lr\n",
    "        self.factor = factor\n",
    "        self.patience = patience\n",
    "        self.wait = 0\n",
    "        self.best_loss = float('inf')\n",
    "        self.current_lr = init_lr\n",
    "        \n",
    "    def on_epoch_end(self, epoch, logs=None):\n",
    "        if logs is None:\n",
    "            logs = {}\n",
    "        loss_val = logs.get('loss')\n",
    "        if loss_val is None:\n",
    "            return\n",
    "        \n",
    "        old_lr = copy.copy(self.current_lr)\n",
    "\n",
    "        if loss_val < self.best_loss:\n",
    "            self.best_loss = loss_val\n",
    "            self.wait = 0 if self.wait <= 0 else self.wait - 1\n",
    "            self.current_lr *= self.factor\n",
    "            self.model.optimizer.lr.assign(self.current_lr)\n",
    "        else:\n",
    "            self.wait += 1\n",
    "            if self.wait >= self.patience:\n",
    "                self.wait = 0\n",
    "                self.current_lr /= self.factor\n",
    "                self.model.optimizer.lr.assign(self.current_lr)\n",
    "                \n",
    "        print(f\"\\nLearning rate:\\nNew: {self.current_lr:.8f} Old: {old_lr:.8f}\")"
   ]
  },
  {
   "cell_type": "code",
   "execution_count": 15,
   "id": "c7ce9f25",
   "metadata": {
    "execution": {
     "iopub.execute_input": "2023-05-24T17:33:36.714303Z",
     "iopub.status.busy": "2023-05-24T17:33:36.713999Z",
     "iopub.status.idle": "2023-05-24T17:33:36.721533Z",
     "shell.execute_reply": "2023-05-24T17:33:36.720476Z"
    },
    "papermill": {
     "duration": 0.02112,
     "end_time": "2023-05-24T17:33:36.723805",
     "exception": false,
     "start_time": "2023-05-24T17:33:36.702685",
     "status": "completed"
    },
    "tags": []
   },
   "outputs": [],
   "source": [
    "best_model_path = '/kaggle/working/model/best'\n",
    "model_checkpoint = tf.keras.callbacks.ModelCheckpoint(\n",
    "    filepath=best_model_path,\n",
    "    save_weights_only=True,\n",
    "    monitor='val_accuracy',\n",
    "    mode='max',\n",
    "    save_best_only=True)\n",
    "\n",
    "reduce_lr = tf.keras.callbacks.ReduceLROnPlateau(\n",
    "    monitor='loss',\n",
    "    factor=0.2,\n",
    "    patience=2,\n",
    "    min_lr=0.001)\n",
    "\n",
    "initial_lr = 0.001\n",
    "lr_decay = 0.1\n",
    "t_mult = 2\n",
    "epochs_per_restart = 10\n",
    "factor = 1.1\n",
    "patience = 2\n",
    "\n",
    "sgdr = SGDRScheduler(initial_lr, lr_decay, t_mult, epochs_per_restart)\n",
    "lr_scheduler = LearningRateScheduler(initial_lr, factor, patience)\n",
    "\n",
    "#early_stop = tf.keras.callbacks.EarlyStopping(monitor='val_loss', patience=3)"
   ]
  },
  {
   "cell_type": "code",
   "execution_count": 16,
   "id": "381ef8a7",
   "metadata": {
    "execution": {
     "iopub.execute_input": "2023-05-24T17:33:36.745686Z",
     "iopub.status.busy": "2023-05-24T17:33:36.745332Z",
     "iopub.status.idle": "2023-05-24T17:33:36.761123Z",
     "shell.execute_reply": "2023-05-24T17:33:36.760169Z"
    },
    "papermill": {
     "duration": 0.029447,
     "end_time": "2023-05-24T17:33:36.763349",
     "exception": false,
     "start_time": "2023-05-24T17:33:36.733902",
     "status": "completed"
    },
    "tags": []
   },
   "outputs": [],
   "source": [
    "def build_model():\n",
    "    model = tf.keras.Sequential([\n",
    "        tf.keras.layers.Conv2D(64, 3, padding='same', activation='swish', input_shape=IMG_SHAPE),# kernel_regularizer=tf.keras.regularizers.l2(0.01)),\n",
    "        tf.keras.layers.BatchNormalization(),\n",
    "        tf.keras.layers.Conv2D(64, 3, padding='same', activation='swish'),\n",
    "        tf.keras.layers.BatchNormalization(),\n",
    "        tf.keras.layers.MaxPooling2D(),\n",
    "        tf.keras.layers.Dropout(0.3),\n",
    "        \n",
    "        tf.keras.layers.Conv2D(128, 3, padding='same', activation='swish'),# kernel_regularizer=tf.keras.regularizers.l2(0.01)),\n",
    "        tf.keras.layers.BatchNormalization(),\n",
    "        tf.keras.layers.Conv2D(128, 3, padding='same', activation='swish'),\n",
    "        tf.keras.layers.BatchNormalization(),\n",
    "        tf.keras.layers.MaxPooling2D(),\n",
    "        tf.keras.layers.Dropout(0.4),\n",
    "        \n",
    "        tf.keras.layers.Conv2D(256, 3, padding='same', activation='swish'),# kernel_regularizer=tf.keras.regularizers.l2(0.01)),\n",
    "        tf.keras.layers.BatchNormalization(),\n",
    "        tf.keras.layers.Conv2D(256, 3, padding='same', activation='swish'),\n",
    "        tf.keras.layers.BatchNormalization(),\n",
    "        tf.keras.layers.MaxPooling2D(),\n",
    "        tf.keras.layers.Dropout(0.5),\n",
    "        \n",
    "        tf.keras.layers.Conv2D(512, 3, padding='same', activation='swish'),# kernel_regularizer=tf.keras.regularizers.l2(0.01)),\n",
    "        tf.keras.layers.BatchNormalization(),\n",
    "        tf.keras.layers.Conv2D(512, 3, padding='same', activation='swish'),\n",
    "        tf.keras.layers.BatchNormalization(),\n",
    "        tf.keras.layers.MaxPooling2D(),\n",
    "        tf.keras.layers.Dropout(0.6),\n",
    "        \n",
    "        tf.keras.layers.GlobalMaxPooling2D(),\n",
    "\n",
    "#         tf.keras.layers.Dense(2048, activation='relu'),# kernel_regularizer=tf.keras.regularizers.l2(0.01)),\n",
    "#         tf.keras.layers.BatchNormalization(),\n",
    "#         tf.keras.layers.Dropout(0.2),\n",
    "        tf.keras.layers.Dense(1024, activation='relu'),# kernel_regularizer=tf.keras.regularizers.l2(0.01)),\n",
    "#         tf.keras.layers.BatchNormalization(),\n",
    "#         tf.keras.layers.Dropout(0.2),\n",
    "        tf.keras.layers.Dense(512, activation='relu'),# kernel_regularizer=tf.keras.regularizers.l2(0.01)),\n",
    "#         tf.keras.layers.BatchNormalization(),\n",
    "#         tf.keras.layers.Dropout(0.2),\n",
    "        tf.keras.layers.Dense(256, activation='relu'),# kernel_regularizer=tf.keras.regularizers.l2(0.01)),\n",
    "#         tf.keras.layers.BatchNormalization(),\n",
    "#         tf.keras.layers.Dropout(0.2),\n",
    "        \n",
    "        tf.keras.layers.Dense(num_classes, activation='softmax')\n",
    "    ])\n",
    "    \n",
    "    model.compile(loss=tf.keras.losses.CategoricalCrossentropy(from_logits=False),\n",
    "                optimizer=tf.keras.optimizers.Adam(),\n",
    "                metrics=['accuracy'])\n",
    "    \n",
    "    return model"
   ]
  },
  {
   "cell_type": "code",
   "execution_count": 17,
   "id": "51c5b028",
   "metadata": {
    "execution": {
     "iopub.execute_input": "2023-05-24T17:33:36.784982Z",
     "iopub.status.busy": "2023-05-24T17:33:36.784165Z",
     "iopub.status.idle": "2023-05-24T17:33:37.566807Z",
     "shell.execute_reply": "2023-05-24T17:33:37.565876Z"
    },
    "papermill": {
     "duration": 0.853694,
     "end_time": "2023-05-24T17:33:37.626920",
     "exception": false,
     "start_time": "2023-05-24T17:33:36.773226",
     "status": "completed"
    },
    "tags": []
   },
   "outputs": [
    {
     "name": "stdout",
     "output_type": "stream",
     "text": [
      "Nombre de couches :  29\n",
      "Model: \"sequential\"\n",
      "_________________________________________________________________\n",
      " Layer (type)                Output Shape              Param #   \n",
      "=================================================================\n",
      " conv2d (Conv2D)             (None, 16, 24, 64)        1792      \n",
      "                                                                 \n",
      " batch_normalization (BatchN  (None, 16, 24, 64)       256       \n",
      " ormalization)                                                   \n",
      "                                                                 \n",
      " conv2d_1 (Conv2D)           (None, 16, 24, 64)        36928     \n",
      "                                                                 \n",
      " batch_normalization_1 (Batc  (None, 16, 24, 64)       256       \n",
      " hNormalization)                                                 \n",
      "                                                                 \n",
      " max_pooling2d (MaxPooling2D  (None, 8, 12, 64)        0         \n",
      " )                                                               \n",
      "                                                                 \n",
      " dropout (Dropout)           (None, 8, 12, 64)         0         \n",
      "                                                                 \n",
      " conv2d_2 (Conv2D)           (None, 8, 12, 128)        73856     \n",
      "                                                                 \n",
      " batch_normalization_2 (Batc  (None, 8, 12, 128)       512       \n",
      " hNormalization)                                                 \n",
      "                                                                 \n",
      " conv2d_3 (Conv2D)           (None, 8, 12, 128)        147584    \n",
      "                                                                 \n",
      " batch_normalization_3 (Batc  (None, 8, 12, 128)       512       \n",
      " hNormalization)                                                 \n",
      "                                                                 \n",
      " max_pooling2d_1 (MaxPooling  (None, 4, 6, 128)        0         \n",
      " 2D)                                                             \n",
      "                                                                 \n",
      " dropout_1 (Dropout)         (None, 4, 6, 128)         0         \n",
      "                                                                 \n",
      " conv2d_4 (Conv2D)           (None, 4, 6, 256)         295168    \n",
      "                                                                 \n",
      " batch_normalization_4 (Batc  (None, 4, 6, 256)        1024      \n",
      " hNormalization)                                                 \n",
      "                                                                 \n",
      " conv2d_5 (Conv2D)           (None, 4, 6, 256)         590080    \n",
      "                                                                 \n",
      " batch_normalization_5 (Batc  (None, 4, 6, 256)        1024      \n",
      " hNormalization)                                                 \n",
      "                                                                 \n",
      " max_pooling2d_2 (MaxPooling  (None, 2, 3, 256)        0         \n",
      " 2D)                                                             \n",
      "                                                                 \n",
      " dropout_2 (Dropout)         (None, 2, 3, 256)         0         \n",
      "                                                                 \n",
      " conv2d_6 (Conv2D)           (None, 2, 3, 512)         1180160   \n",
      "                                                                 \n",
      " batch_normalization_6 (Batc  (None, 2, 3, 512)        2048      \n",
      " hNormalization)                                                 \n",
      "                                                                 \n",
      " conv2d_7 (Conv2D)           (None, 2, 3, 512)         2359808   \n",
      "                                                                 \n",
      " batch_normalization_7 (Batc  (None, 2, 3, 512)        2048      \n",
      " hNormalization)                                                 \n",
      "                                                                 \n",
      " max_pooling2d_3 (MaxPooling  (None, 1, 1, 512)        0         \n",
      " 2D)                                                             \n",
      "                                                                 \n",
      " dropout_3 (Dropout)         (None, 1, 1, 512)         0         \n",
      "                                                                 \n",
      " global_max_pooling2d (Globa  (None, 512)              0         \n",
      " lMaxPooling2D)                                                  \n",
      "                                                                 \n",
      " dense (Dense)               (None, 1024)              525312    \n",
      "                                                                 \n",
      " dense_1 (Dense)             (None, 512)               524800    \n",
      "                                                                 \n",
      " dense_2 (Dense)             (None, 256)               131328    \n",
      "                                                                 \n",
      " dense_3 (Dense)             (None, 10)                2570      \n",
      "                                                                 \n",
      "=================================================================\n",
      "Total params: 5,877,066\n",
      "Trainable params: 5,873,226\n",
      "Non-trainable params: 3,840\n",
      "_________________________________________________________________\n"
     ]
    }
   ],
   "source": [
    "# buiding a model inside the strategy scope\n",
    "with strategy.scope():\n",
    "    model = build_model()\n",
    "\n",
    "print(\"Nombre de couches : \", len(model.layers))\n",
    "model.summary()"
   ]
  },
  {
   "cell_type": "code",
   "execution_count": 18,
   "id": "3a2c3f7f",
   "metadata": {
    "execution": {
     "iopub.execute_input": "2023-05-24T17:33:37.662463Z",
     "iopub.status.busy": "2023-05-24T17:33:37.662090Z",
     "iopub.status.idle": "2023-05-24T17:33:37.667188Z",
     "shell.execute_reply": "2023-05-24T17:33:37.666008Z"
    },
    "papermill": {
     "duration": 0.025494,
     "end_time": "2023-05-24T17:33:37.669507",
     "exception": false,
     "start_time": "2023-05-24T17:33:37.644013",
     "status": "completed"
    },
    "tags": []
   },
   "outputs": [],
   "source": [
    "EPOCHS = 200"
   ]
  },
  {
   "cell_type": "code",
   "execution_count": 19,
   "id": "4c3b040b",
   "metadata": {
    "execution": {
     "iopub.execute_input": "2023-05-24T17:33:37.704507Z",
     "iopub.status.busy": "2023-05-24T17:33:37.704198Z",
     "iopub.status.idle": "2023-05-24T21:49:37.293566Z",
     "shell.execute_reply": "2023-05-24T21:49:37.286358Z"
    },
    "papermill": {
     "duration": 15359.615984,
     "end_time": "2023-05-24T21:49:37.302156",
     "exception": false,
     "start_time": "2023-05-24T17:33:37.686172",
     "status": "completed"
    },
    "tags": []
   },
   "outputs": [
    {
     "name": "stdout",
     "output_type": "stream",
     "text": [
      "Epoch 1/200\n"
     ]
    },
    {
     "name": "stderr",
     "output_type": "stream",
     "text": [
      "2023-05-24 17:33:48.178751: E tensorflow/core/grappler/optimizers/meta_optimizer.cc:954] layout failed: INVALID_ARGUMENT: Size of values 0 does not match size of permutation 4 @ fanin shape insequential/dropout/dropout/SelectV2-2-TransposeNHWCToNCHW-LayoutOptimizer\n"
     ]
    },
    {
     "name": "stdout",
     "output_type": "stream",
     "text": [
      "999/999 [==============================] - 94s 51ms/step - loss: 2.0519 - accuracy: 0.3163 - val_loss: 1.8019 - val_accuracy: 0.3848\n",
      "Epoch 2/200\n",
      "999/999 [==============================] - 63s 62ms/step - loss: 1.6076 - accuracy: 0.4683 - val_loss: 1.3221 - val_accuracy: 0.5486\n",
      "Epoch 3/200\n",
      "999/999 [==============================] - 62s 62ms/step - loss: 1.4392 - accuracy: 0.5266 - val_loss: 1.2836 - val_accuracy: 0.5461\n",
      "Epoch 4/200\n",
      "999/999 [==============================] - 72s 71ms/step - loss: 1.3338 - accuracy: 0.5615 - val_loss: 1.1700 - val_accuracy: 0.5906\n",
      "Epoch 5/200\n",
      "999/999 [==============================] - 61s 59ms/step - loss: 1.2683 - accuracy: 0.5831 - val_loss: 1.2321 - val_accuracy: 0.5774\n",
      "Epoch 6/200\n",
      "999/999 [==============================] - 70s 68ms/step - loss: 1.2061 - accuracy: 0.6041 - val_loss: 1.0546 - val_accuracy: 0.6338\n",
      "Epoch 7/200\n",
      "999/999 [==============================] - 59s 58ms/step - loss: 1.1642 - accuracy: 0.6166 - val_loss: 1.0864 - val_accuracy: 0.6304\n",
      "Epoch 8/200\n",
      "999/999 [==============================] - 63s 62ms/step - loss: 1.1121 - accuracy: 0.6350 - val_loss: 1.0598 - val_accuracy: 0.6374\n",
      "Epoch 9/200\n",
      "999/999 [==============================] - 64s 63ms/step - loss: 1.0818 - accuracy: 0.6433 - val_loss: 0.9643 - val_accuracy: 0.6721\n",
      "Epoch 10/200\n",
      "999/999 [==============================] - 62s 61ms/step - loss: 1.0465 - accuracy: 0.6536 - val_loss: 1.0051 - val_accuracy: 0.6583\n",
      "Epoch 11/200\n",
      "999/999 [==============================] - 65s 62ms/step - loss: 1.0190 - accuracy: 0.6605 - val_loss: 0.9636 - val_accuracy: 0.6710\n",
      "Epoch 12/200\n",
      "999/999 [==============================] - 62s 61ms/step - loss: 0.9896 - accuracy: 0.6734 - val_loss: 0.9223 - val_accuracy: 0.6868\n",
      "Epoch 13/200\n",
      "999/999 [==============================] - 61s 60ms/step - loss: 0.9604 - accuracy: 0.6792 - val_loss: 0.9798 - val_accuracy: 0.6724\n",
      "Epoch 14/200\n",
      "999/999 [==============================] - 69s 66ms/step - loss: 0.9470 - accuracy: 0.6821 - val_loss: 0.9734 - val_accuracy: 0.6716\n",
      "Epoch 15/200\n",
      "999/999 [==============================] - 69s 67ms/step - loss: 0.9281 - accuracy: 0.6904 - val_loss: 0.9889 - val_accuracy: 0.6645\n",
      "Epoch 16/200\n",
      "999/999 [==============================] - 70s 68ms/step - loss: 0.9041 - accuracy: 0.6959 - val_loss: 0.9323 - val_accuracy: 0.6876\n",
      "Epoch 17/200\n",
      "999/999 [==============================] - 63s 62ms/step - loss: 0.8901 - accuracy: 0.7013 - val_loss: 0.8572 - val_accuracy: 0.7048\n",
      "Epoch 18/200\n",
      "999/999 [==============================] - 68s 65ms/step - loss: 0.8696 - accuracy: 0.7091 - val_loss: 0.8827 - val_accuracy: 0.6986\n",
      "Epoch 19/200\n",
      "999/999 [==============================] - 69s 66ms/step - loss: 0.8562 - accuracy: 0.7093 - val_loss: 0.9013 - val_accuracy: 0.6868\n",
      "Epoch 20/200\n",
      "999/999 [==============================] - 70s 67ms/step - loss: 0.8400 - accuracy: 0.7176 - val_loss: 0.8710 - val_accuracy: 0.7037\n",
      "Epoch 21/200\n",
      "999/999 [==============================] - 63s 62ms/step - loss: 0.8369 - accuracy: 0.7170 - val_loss: 0.8656 - val_accuracy: 0.7096\n",
      "Epoch 22/200\n",
      "999/999 [==============================] - 61s 60ms/step - loss: 0.8090 - accuracy: 0.7274 - val_loss: 0.8561 - val_accuracy: 0.7048\n",
      "Epoch 23/200\n",
      "999/999 [==============================] - 72s 69ms/step - loss: 0.7994 - accuracy: 0.7296 - val_loss: 0.8545 - val_accuracy: 0.7096\n",
      "Epoch 24/200\n",
      "999/999 [==============================] - 71s 69ms/step - loss: 0.8005 - accuracy: 0.7284 - val_loss: 0.8224 - val_accuracy: 0.7119\n",
      "Epoch 25/200\n",
      "999/999 [==============================] - 63s 62ms/step - loss: 0.7751 - accuracy: 0.7369 - val_loss: 0.8471 - val_accuracy: 0.7144\n",
      "Epoch 26/200\n",
      "999/999 [==============================] - 62s 61ms/step - loss: 0.7691 - accuracy: 0.7388 - val_loss: 0.8832 - val_accuracy: 0.7110\n",
      "Epoch 27/200\n",
      "999/999 [==============================] - 65s 64ms/step - loss: 0.7576 - accuracy: 0.7444 - val_loss: 0.8284 - val_accuracy: 0.7240\n",
      "Epoch 28/200\n",
      "999/999 [==============================] - 66s 64ms/step - loss: 0.7444 - accuracy: 0.7451 - val_loss: 0.8384 - val_accuracy: 0.7223\n",
      "Epoch 29/200\n",
      "999/999 [==============================] - 59s 58ms/step - loss: 0.7302 - accuracy: 0.7496 - val_loss: 0.8184 - val_accuracy: 0.7192\n",
      "Epoch 30/200\n",
      "999/999 [==============================] - 61s 59ms/step - loss: 0.7238 - accuracy: 0.7517 - val_loss: 0.8535 - val_accuracy: 0.7167\n",
      "Epoch 31/200\n",
      "999/999 [==============================] - 64s 62ms/step - loss: 0.7095 - accuracy: 0.7577 - val_loss: 0.8096 - val_accuracy: 0.7209\n",
      "Epoch 32/200\n",
      "999/999 [==============================] - 69s 65ms/step - loss: 0.7139 - accuracy: 0.7571 - val_loss: 0.8369 - val_accuracy: 0.7209\n",
      "Epoch 33/200\n",
      "999/999 [==============================] - 71s 68ms/step - loss: 0.7013 - accuracy: 0.7608 - val_loss: 0.7887 - val_accuracy: 0.7370\n",
      "Epoch 34/200\n",
      "999/999 [==============================] - 62s 61ms/step - loss: 0.6891 - accuracy: 0.7644 - val_loss: 0.8103 - val_accuracy: 0.7285\n",
      "Epoch 35/200\n",
      "999/999 [==============================] - 72s 68ms/step - loss: 0.6810 - accuracy: 0.7701 - val_loss: 0.8440 - val_accuracy: 0.7167\n",
      "Epoch 36/200\n",
      "999/999 [==============================] - 64s 63ms/step - loss: 0.6715 - accuracy: 0.7692 - val_loss: 0.8482 - val_accuracy: 0.7130\n",
      "Epoch 37/200\n",
      "999/999 [==============================] - 68s 65ms/step - loss: 0.6640 - accuracy: 0.7720 - val_loss: 0.8115 - val_accuracy: 0.7262\n",
      "Epoch 38/200\n",
      "999/999 [==============================] - 63s 62ms/step - loss: 0.6625 - accuracy: 0.7731 - val_loss: 0.8454 - val_accuracy: 0.7172\n",
      "Epoch 39/200\n",
      "999/999 [==============================] - 70s 66ms/step - loss: 0.6535 - accuracy: 0.7762 - val_loss: 0.8300 - val_accuracy: 0.7133\n",
      "Epoch 40/200\n",
      "999/999 [==============================] - 62s 60ms/step - loss: 0.6407 - accuracy: 0.7793 - val_loss: 0.8763 - val_accuracy: 0.7229\n",
      "Epoch 41/200\n",
      "999/999 [==============================] - 70s 66ms/step - loss: 0.6336 - accuracy: 0.7821 - val_loss: 0.7905 - val_accuracy: 0.7375\n",
      "Epoch 42/200\n",
      "999/999 [==============================] - 62s 61ms/step - loss: 0.6176 - accuracy: 0.7870 - val_loss: 0.8089 - val_accuracy: 0.7291\n",
      "Epoch 43/200\n",
      "999/999 [==============================] - 68s 67ms/step - loss: 0.6219 - accuracy: 0.7838 - val_loss: 0.7818 - val_accuracy: 0.7429\n",
      "Epoch 44/200\n",
      "999/999 [==============================] - 68s 66ms/step - loss: 0.6128 - accuracy: 0.7843 - val_loss: 0.8181 - val_accuracy: 0.7322\n",
      "Epoch 45/200\n",
      "999/999 [==============================] - 64s 62ms/step - loss: 0.6114 - accuracy: 0.7873 - val_loss: 0.8109 - val_accuracy: 0.7246\n",
      "Epoch 46/200\n",
      "999/999 [==============================] - 64s 63ms/step - loss: 0.5985 - accuracy: 0.7927 - val_loss: 0.8142 - val_accuracy: 0.7257\n",
      "Epoch 47/200\n",
      "999/999 [==============================] - 72s 70ms/step - loss: 0.5919 - accuracy: 0.7964 - val_loss: 0.8413 - val_accuracy: 0.7237\n",
      "Epoch 48/200\n",
      "999/999 [==============================] - 62s 61ms/step - loss: 0.5913 - accuracy: 0.7941 - val_loss: 0.8093 - val_accuracy: 0.7333\n",
      "Epoch 49/200\n",
      "999/999 [==============================] - 70s 68ms/step - loss: 0.5827 - accuracy: 0.7950 - val_loss: 0.8669 - val_accuracy: 0.7186\n",
      "Epoch 50/200\n",
      "999/999 [==============================] - 72s 68ms/step - loss: 0.5760 - accuracy: 0.7975 - val_loss: 0.8750 - val_accuracy: 0.7127\n",
      "Epoch 51/200\n",
      "999/999 [==============================] - 75s 69ms/step - loss: 0.5700 - accuracy: 0.8014 - val_loss: 0.8608 - val_accuracy: 0.7274\n",
      "Epoch 52/200\n",
      "999/999 [==============================] - 66s 63ms/step - loss: 0.5682 - accuracy: 0.8003 - val_loss: 0.8195 - val_accuracy: 0.7299\n",
      "Epoch 53/200\n",
      "999/999 [==============================] - 71s 67ms/step - loss: 0.5582 - accuracy: 0.8031 - val_loss: 0.7859 - val_accuracy: 0.7474\n",
      "Epoch 54/200\n",
      "999/999 [==============================] - 62s 60ms/step - loss: 0.5580 - accuracy: 0.8070 - val_loss: 0.8419 - val_accuracy: 0.7243\n",
      "Epoch 55/200\n",
      "999/999 [==============================] - 62s 61ms/step - loss: 0.5505 - accuracy: 0.8088 - val_loss: 0.8622 - val_accuracy: 0.7164\n",
      "Epoch 56/200\n",
      "999/999 [==============================] - 61s 59ms/step - loss: 0.5360 - accuracy: 0.8115 - val_loss: 0.8258 - val_accuracy: 0.7341\n",
      "Epoch 57/200\n",
      "999/999 [==============================] - 69s 68ms/step - loss: 0.5491 - accuracy: 0.8102 - val_loss: 0.8251 - val_accuracy: 0.7401\n",
      "Epoch 58/200\n",
      "999/999 [==============================] - 62s 60ms/step - loss: 0.5410 - accuracy: 0.8078 - val_loss: 0.8150 - val_accuracy: 0.7446\n",
      "Epoch 59/200\n",
      "999/999 [==============================] - 72s 70ms/step - loss: 0.5379 - accuracy: 0.8113 - val_loss: 0.8282 - val_accuracy: 0.7353\n",
      "Epoch 60/200\n",
      "999/999 [==============================] - 60s 59ms/step - loss: 0.5211 - accuracy: 0.8173 - val_loss: 0.8055 - val_accuracy: 0.7384\n",
      "Epoch 61/200\n",
      "999/999 [==============================] - 74s 70ms/step - loss: 0.5213 - accuracy: 0.8163 - val_loss: 0.8104 - val_accuracy: 0.7454\n",
      "Epoch 62/200\n",
      "999/999 [==============================] - 62s 60ms/step - loss: 0.5235 - accuracy: 0.8169 - val_loss: 0.9000 - val_accuracy: 0.7158\n",
      "Epoch 63/200\n",
      "999/999 [==============================] - 64s 62ms/step - loss: 0.5049 - accuracy: 0.8212 - val_loss: 0.8444 - val_accuracy: 0.7313\n",
      "Epoch 64/200\n",
      "999/999 [==============================] - 73s 71ms/step - loss: 0.5084 - accuracy: 0.8204 - val_loss: 0.8136 - val_accuracy: 0.7480\n",
      "Epoch 65/200\n",
      "999/999 [==============================] - 67s 63ms/step - loss: 0.5010 - accuracy: 0.8246 - val_loss: 0.8185 - val_accuracy: 0.7463\n",
      "Epoch 66/200\n",
      "999/999 [==============================] - 62s 62ms/step - loss: 0.4956 - accuracy: 0.8231 - val_loss: 0.8228 - val_accuracy: 0.7319\n",
      "Epoch 67/200\n",
      "999/999 [==============================] - 61s 60ms/step - loss: 0.4978 - accuracy: 0.8244 - val_loss: 0.8354 - val_accuracy: 0.7364\n",
      "Epoch 68/200\n",
      "999/999 [==============================] - 64s 63ms/step - loss: 0.4983 - accuracy: 0.8240 - val_loss: 0.8815 - val_accuracy: 0.7262\n",
      "Epoch 69/200\n",
      "999/999 [==============================] - 60s 59ms/step - loss: 0.4913 - accuracy: 0.8260 - val_loss: 0.7924 - val_accuracy: 0.7460\n",
      "Epoch 70/200\n",
      "999/999 [==============================] - 67s 65ms/step - loss: 0.4779 - accuracy: 0.8292 - val_loss: 0.7856 - val_accuracy: 0.7550\n",
      "Epoch 71/200\n",
      "999/999 [==============================] - 66s 65ms/step - loss: 0.4864 - accuracy: 0.8268 - val_loss: 0.8632 - val_accuracy: 0.7243\n",
      "Epoch 72/200\n",
      "999/999 [==============================] - 64s 63ms/step - loss: 0.4777 - accuracy: 0.8320 - val_loss: 0.8164 - val_accuracy: 0.7449\n",
      "Epoch 73/200\n",
      "999/999 [==============================] - 72s 70ms/step - loss: 0.4843 - accuracy: 0.8315 - val_loss: 0.7984 - val_accuracy: 0.7420\n",
      "Epoch 74/200\n",
      "999/999 [==============================] - 70s 68ms/step - loss: 0.4705 - accuracy: 0.8317 - val_loss: 0.7945 - val_accuracy: 0.7494\n",
      "Epoch 75/200\n",
      "999/999 [==============================] - 73s 71ms/step - loss: 0.4737 - accuracy: 0.8337 - val_loss: 0.8081 - val_accuracy: 0.7350\n",
      "Epoch 76/200\n",
      "999/999 [==============================] - 64s 63ms/step - loss: 0.4705 - accuracy: 0.8324 - val_loss: 0.8309 - val_accuracy: 0.7361\n",
      "Epoch 77/200\n",
      "999/999 [==============================] - 63s 61ms/step - loss: 0.4566 - accuracy: 0.8371 - val_loss: 0.8054 - val_accuracy: 0.7496\n",
      "Epoch 78/200\n",
      "999/999 [==============================] - 75s 71ms/step - loss: 0.4558 - accuracy: 0.8383 - val_loss: 0.8067 - val_accuracy: 0.7485\n",
      "Epoch 79/200\n",
      "999/999 [==============================] - 70s 68ms/step - loss: 0.4506 - accuracy: 0.8383 - val_loss: 0.8686 - val_accuracy: 0.7370\n",
      "Epoch 80/200\n",
      "999/999 [==============================] - 71s 69ms/step - loss: 0.4547 - accuracy: 0.8407 - val_loss: 0.8614 - val_accuracy: 0.7330\n",
      "Epoch 81/200\n",
      "999/999 [==============================] - 74s 71ms/step - loss: 0.4418 - accuracy: 0.8420 - val_loss: 0.7936 - val_accuracy: 0.7575\n",
      "Epoch 82/200\n",
      "999/999 [==============================] - 66s 65ms/step - loss: 0.4400 - accuracy: 0.8416 - val_loss: 0.8325 - val_accuracy: 0.7451\n",
      "Epoch 83/200\n",
      "999/999 [==============================] - 61s 59ms/step - loss: 0.4322 - accuracy: 0.8475 - val_loss: 0.7989 - val_accuracy: 0.7471\n",
      "Epoch 84/200\n",
      "999/999 [==============================] - 63s 62ms/step - loss: 0.4336 - accuracy: 0.8456 - val_loss: 0.8016 - val_accuracy: 0.7474\n",
      "Epoch 85/200\n",
      "999/999 [==============================] - 73s 71ms/step - loss: 0.4376 - accuracy: 0.8433 - val_loss: 0.8676 - val_accuracy: 0.7370\n",
      "Epoch 86/200\n",
      "999/999 [==============================] - 67s 65ms/step - loss: 0.4281 - accuracy: 0.8483 - val_loss: 0.8088 - val_accuracy: 0.7522\n",
      "Epoch 87/200\n",
      "999/999 [==============================] - 63s 61ms/step - loss: 0.4275 - accuracy: 0.8483 - val_loss: 0.8628 - val_accuracy: 0.7440\n",
      "Epoch 88/200\n",
      "999/999 [==============================] - 75s 71ms/step - loss: 0.4147 - accuracy: 0.8505 - val_loss: 0.8286 - val_accuracy: 0.7403\n",
      "Epoch 89/200\n",
      "999/999 [==============================] - 74s 71ms/step - loss: 0.4153 - accuracy: 0.8518 - val_loss: 0.8185 - val_accuracy: 0.7440\n",
      "Epoch 90/200\n",
      "999/999 [==============================] - 64s 62ms/step - loss: 0.4175 - accuracy: 0.8508 - val_loss: 0.8200 - val_accuracy: 0.7513\n",
      "Epoch 91/200\n",
      "999/999 [==============================] - 67s 65ms/step - loss: 0.4195 - accuracy: 0.8501 - val_loss: 0.8784 - val_accuracy: 0.7474\n",
      "Epoch 92/200\n",
      "999/999 [==============================] - 71s 69ms/step - loss: 0.4086 - accuracy: 0.8533 - val_loss: 0.8277 - val_accuracy: 0.7406\n",
      "Epoch 93/200\n",
      "999/999 [==============================] - 64s 63ms/step - loss: 0.4114 - accuracy: 0.8512 - val_loss: 0.8075 - val_accuracy: 0.7443\n",
      "Epoch 94/200\n",
      "999/999 [==============================] - 69s 67ms/step - loss: 0.4078 - accuracy: 0.8533 - val_loss: 0.8363 - val_accuracy: 0.7420\n",
      "Epoch 95/200\n",
      "999/999 [==============================] - 63s 62ms/step - loss: 0.4139 - accuracy: 0.8520 - val_loss: 0.8368 - val_accuracy: 0.7522\n",
      "Epoch 96/200\n",
      "999/999 [==============================] - 66s 64ms/step - loss: 0.3996 - accuracy: 0.8554 - val_loss: 0.8618 - val_accuracy: 0.7310\n",
      "Epoch 97/200\n",
      "999/999 [==============================] - 63s 62ms/step - loss: 0.3984 - accuracy: 0.8545 - val_loss: 0.8151 - val_accuracy: 0.7434\n",
      "Epoch 98/200\n",
      "999/999 [==============================] - 77s 73ms/step - loss: 0.3958 - accuracy: 0.8589 - val_loss: 0.8225 - val_accuracy: 0.7434\n",
      "Epoch 99/200\n",
      "999/999 [==============================] - 71s 69ms/step - loss: 0.3917 - accuracy: 0.8595 - val_loss: 0.8541 - val_accuracy: 0.7454\n",
      "Epoch 100/200\n",
      "999/999 [==============================] - 75s 73ms/step - loss: 0.3913 - accuracy: 0.8597 - val_loss: 0.8673 - val_accuracy: 0.7412\n",
      "Epoch 101/200\n",
      "999/999 [==============================] - 69s 67ms/step - loss: 0.3810 - accuracy: 0.8645 - val_loss: 0.8456 - val_accuracy: 0.7508\n",
      "Epoch 102/200\n",
      "999/999 [==============================] - 65s 63ms/step - loss: 0.3881 - accuracy: 0.8626 - val_loss: 0.8177 - val_accuracy: 0.7516\n",
      "Epoch 103/200\n",
      "999/999 [==============================] - 68s 66ms/step - loss: 0.3822 - accuracy: 0.8628 - val_loss: 0.8716 - val_accuracy: 0.7457\n",
      "Epoch 104/200\n",
      "999/999 [==============================] - 70s 68ms/step - loss: 0.3833 - accuracy: 0.8610 - val_loss: 0.7760 - val_accuracy: 0.7615\n",
      "Epoch 105/200\n",
      "999/999 [==============================] - 64s 63ms/step - loss: 0.3761 - accuracy: 0.8651 - val_loss: 0.8185 - val_accuracy: 0.7567\n",
      "Epoch 106/200\n",
      "999/999 [==============================] - 75s 72ms/step - loss: 0.3771 - accuracy: 0.8654 - val_loss: 0.8189 - val_accuracy: 0.7542\n",
      "Epoch 107/200\n",
      "999/999 [==============================] - 61s 59ms/step - loss: 0.3686 - accuracy: 0.8676 - val_loss: 0.8064 - val_accuracy: 0.7519\n",
      "Epoch 108/200\n",
      "999/999 [==============================] - 62s 61ms/step - loss: 0.3734 - accuracy: 0.8635 - val_loss: 0.8767 - val_accuracy: 0.7471\n",
      "Epoch 109/200\n",
      "999/999 [==============================] - 66s 65ms/step - loss: 0.3635 - accuracy: 0.8692 - val_loss: 0.8233 - val_accuracy: 0.7530\n",
      "Epoch 110/200\n",
      "999/999 [==============================] - 59s 58ms/step - loss: 0.3659 - accuracy: 0.8694 - val_loss: 0.8688 - val_accuracy: 0.7482\n",
      "Epoch 111/200\n",
      "999/999 [==============================] - 78s 75ms/step - loss: 0.3605 - accuracy: 0.8720 - val_loss: 0.8815 - val_accuracy: 0.7474\n",
      "Epoch 112/200\n",
      "999/999 [==============================] - 63s 61ms/step - loss: 0.3629 - accuracy: 0.8703 - val_loss: 0.8465 - val_accuracy: 0.7477\n",
      "Epoch 113/200\n",
      "999/999 [==============================] - 79s 75ms/step - loss: 0.3609 - accuracy: 0.8712 - val_loss: 0.8410 - val_accuracy: 0.7564\n",
      "Epoch 114/200\n",
      "999/999 [==============================] - 73s 69ms/step - loss: 0.3581 - accuracy: 0.8743 - val_loss: 0.8330 - val_accuracy: 0.7592\n",
      "Epoch 115/200\n",
      "999/999 [==============================] - 67s 65ms/step - loss: 0.3574 - accuracy: 0.8708 - val_loss: 0.8598 - val_accuracy: 0.7465\n",
      "Epoch 116/200\n",
      "999/999 [==============================] - 71s 69ms/step - loss: 0.3606 - accuracy: 0.8700 - val_loss: 0.8591 - val_accuracy: 0.7502\n",
      "Epoch 117/200\n",
      "999/999 [==============================] - 66s 63ms/step - loss: 0.3502 - accuracy: 0.8723 - val_loss: 0.8732 - val_accuracy: 0.7403\n",
      "Epoch 118/200\n",
      "999/999 [==============================] - 68s 65ms/step - loss: 0.3534 - accuracy: 0.8722 - val_loss: 0.8362 - val_accuracy: 0.7573\n",
      "Epoch 119/200\n",
      "999/999 [==============================] - 64s 60ms/step - loss: 0.3506 - accuracy: 0.8737 - val_loss: 0.8735 - val_accuracy: 0.7361\n",
      "Epoch 120/200\n",
      "999/999 [==============================] - 71s 68ms/step - loss: 0.3412 - accuracy: 0.8780 - val_loss: 0.8343 - val_accuracy: 0.7550\n",
      "Epoch 121/200\n",
      "999/999 [==============================] - 65s 63ms/step - loss: 0.3411 - accuracy: 0.8762 - val_loss: 0.8430 - val_accuracy: 0.7491\n",
      "Epoch 122/200\n",
      "999/999 [==============================] - 80s 76ms/step - loss: 0.3440 - accuracy: 0.8772 - val_loss: 0.8233 - val_accuracy: 0.7550\n",
      "Epoch 123/200\n",
      "999/999 [==============================] - 69s 66ms/step - loss: 0.3371 - accuracy: 0.8788 - val_loss: 0.8779 - val_accuracy: 0.7511\n",
      "Epoch 124/200\n",
      "999/999 [==============================] - 65s 63ms/step - loss: 0.3409 - accuracy: 0.8772 - val_loss: 0.8358 - val_accuracy: 0.7553\n",
      "Epoch 125/200\n",
      "999/999 [==============================] - 77s 72ms/step - loss: 0.3365 - accuracy: 0.8796 - val_loss: 0.8914 - val_accuracy: 0.7432\n",
      "Epoch 126/200\n",
      "999/999 [==============================] - 69s 66ms/step - loss: 0.3331 - accuracy: 0.8789 - val_loss: 0.8942 - val_accuracy: 0.7499\n",
      "Epoch 127/200\n",
      "999/999 [==============================] - 68s 66ms/step - loss: 0.3344 - accuracy: 0.8805 - val_loss: 0.8532 - val_accuracy: 0.7505\n",
      "Epoch 128/200\n",
      "999/999 [==============================] - 77s 76ms/step - loss: 0.3359 - accuracy: 0.8783 - val_loss: 0.8416 - val_accuracy: 0.7584\n",
      "Epoch 129/200\n",
      "999/999 [==============================] - 61s 59ms/step - loss: 0.3338 - accuracy: 0.8808 - val_loss: 0.8568 - val_accuracy: 0.7590\n",
      "Epoch 130/200\n",
      "999/999 [==============================] - 77s 73ms/step - loss: 0.3272 - accuracy: 0.8838 - val_loss: 0.9303 - val_accuracy: 0.7468\n",
      "Epoch 131/200\n",
      "999/999 [==============================] - 74s 71ms/step - loss: 0.3212 - accuracy: 0.8829 - val_loss: 0.8997 - val_accuracy: 0.7488\n",
      "Epoch 132/200\n",
      "999/999 [==============================] - 63s 62ms/step - loss: 0.3232 - accuracy: 0.8838 - val_loss: 0.8839 - val_accuracy: 0.7499\n",
      "Epoch 133/200\n",
      "999/999 [==============================] - 76s 73ms/step - loss: 0.3209 - accuracy: 0.8834 - val_loss: 0.8832 - val_accuracy: 0.7516\n",
      "Epoch 134/200\n",
      "999/999 [==============================] - 67s 64ms/step - loss: 0.3253 - accuracy: 0.8830 - val_loss: 0.8542 - val_accuracy: 0.7525\n",
      "Epoch 135/200\n",
      "999/999 [==============================] - 66s 64ms/step - loss: 0.3206 - accuracy: 0.8861 - val_loss: 0.9014 - val_accuracy: 0.7446\n",
      "Epoch 136/200\n",
      "999/999 [==============================] - 63s 62ms/step - loss: 0.3171 - accuracy: 0.8837 - val_loss: 0.8155 - val_accuracy: 0.7606\n",
      "Epoch 137/200\n",
      "999/999 [==============================] - 69s 67ms/step - loss: 0.3121 - accuracy: 0.8871 - val_loss: 0.8741 - val_accuracy: 0.7547\n",
      "Epoch 138/200\n",
      "999/999 [==============================] - 64s 63ms/step - loss: 0.3149 - accuracy: 0.8883 - val_loss: 0.8266 - val_accuracy: 0.7581\n",
      "Epoch 139/200\n",
      "999/999 [==============================] - 80s 77ms/step - loss: 0.3144 - accuracy: 0.8871 - val_loss: 0.8632 - val_accuracy: 0.7536\n",
      "Epoch 140/200\n",
      "999/999 [==============================] - 67s 65ms/step - loss: 0.3116 - accuracy: 0.8874 - val_loss: 0.8981 - val_accuracy: 0.7561\n",
      "Epoch 141/200\n",
      "999/999 [==============================] - 72s 69ms/step - loss: 0.3061 - accuracy: 0.8899 - val_loss: 0.9109 - val_accuracy: 0.7505\n",
      "Epoch 142/200\n",
      "999/999 [==============================] - 73s 69ms/step - loss: 0.3088 - accuracy: 0.8886 - val_loss: 0.8930 - val_accuracy: 0.7496\n",
      "Epoch 143/200\n",
      "999/999 [==============================] - 69s 66ms/step - loss: 0.3074 - accuracy: 0.8905 - val_loss: 0.9008 - val_accuracy: 0.7460\n",
      "Epoch 144/200\n",
      "999/999 [==============================] - 68s 64ms/step - loss: 0.3123 - accuracy: 0.8862 - val_loss: 0.8468 - val_accuracy: 0.7581\n",
      "Epoch 145/200\n",
      "999/999 [==============================] - 71s 69ms/step - loss: 0.3063 - accuracy: 0.8895 - val_loss: 0.8662 - val_accuracy: 0.7553\n",
      "Epoch 146/200\n",
      "999/999 [==============================] - 63s 62ms/step - loss: 0.2984 - accuracy: 0.8934 - val_loss: 0.8446 - val_accuracy: 0.7581\n",
      "Epoch 147/200\n",
      "999/999 [==============================] - 68s 66ms/step - loss: 0.2985 - accuracy: 0.8931 - val_loss: 0.8947 - val_accuracy: 0.7502\n",
      "Epoch 148/200\n",
      "999/999 [==============================] - 63s 62ms/step - loss: 0.3043 - accuracy: 0.8898 - val_loss: 0.8430 - val_accuracy: 0.7598\n",
      "Epoch 149/200\n",
      "999/999 [==============================] - 71s 69ms/step - loss: 0.2862 - accuracy: 0.8971 - val_loss: 0.9297 - val_accuracy: 0.7505\n",
      "994/999 [============================>.] - ETA: 0s - loss: 0.2862 - accuracy: 0.8971Epoch 150/200\n",
      "999/999 [==============================] - 69s 68ms/step - loss: 0.2993 - accuracy: 0.8897 - val_loss: 0.8944 - val_accuracy: 0.7482\n",
      "Epoch 151/200\n",
      "999/999 [==============================] - 63s 62ms/step - loss: 0.2903 - accuracy: 0.8951 - val_loss: 0.8731 - val_accuracy: 0.7556\n",
      "Epoch 152/200\n",
      "999/999 [==============================] - 63s 62ms/step - loss: 0.2968 - accuracy: 0.8918 - val_loss: 0.8886 - val_accuracy: 0.7623\n",
      "Epoch 153/200\n",
      "999/999 [==============================] - 62s 61ms/step - loss: 0.2919 - accuracy: 0.8942 - val_loss: 0.9228 - val_accuracy: 0.7559\n",
      "Epoch 154/200\n",
      "999/999 [==============================] - 70s 68ms/step - loss: 0.2948 - accuracy: 0.8930 - val_loss: 0.8812 - val_accuracy: 0.7527\n",
      "Epoch 155/200\n",
      "999/999 [==============================] - 62s 61ms/step - loss: 0.2893 - accuracy: 0.8964 - val_loss: 0.8887 - val_accuracy: 0.7581\n",
      "Epoch 156/200\n",
      "999/999 [==============================] - 64s 63ms/step - loss: 0.2930 - accuracy: 0.8931 - val_loss: 0.9046 - val_accuracy: 0.7474\n",
      "Epoch 157/200\n",
      "999/999 [==============================] - 78s 77ms/step - loss: 0.2839 - accuracy: 0.8989 - val_loss: 0.8854 - val_accuracy: 0.7592\n",
      "Epoch 158/200\n",
      "999/999 [==============================] - 63s 61ms/step - loss: 0.3038 - accuracy: 0.8935 - val_loss: 0.8883 - val_accuracy: 0.7457\n",
      "Epoch 159/200\n",
      "999/999 [==============================] - 71s 70ms/step - loss: 0.2794 - accuracy: 0.8976 - val_loss: 0.8861 - val_accuracy: 0.7564\n",
      "Epoch 160/200\n",
      "999/999 [==============================] - 68s 66ms/step - loss: 0.2847 - accuracy: 0.8977 - val_loss: 0.8581 - val_accuracy: 0.7621\n",
      "Epoch 161/200\n",
      "999/999 [==============================] - 61s 60ms/step - loss: 0.2826 - accuracy: 0.8992 - val_loss: 0.8831 - val_accuracy: 0.7561\n",
      "Epoch 162/200\n",
      "999/999 [==============================] - 70s 68ms/step - loss: 0.2810 - accuracy: 0.8977 - val_loss: 0.8971 - val_accuracy: 0.7618\n",
      "Epoch 163/200\n",
      "999/999 [==============================] - 61s 60ms/step - loss: 0.2763 - accuracy: 0.8998 - val_loss: 0.9246 - val_accuracy: 0.7527\n",
      "Epoch 164/200\n",
      "999/999 [==============================] - 81s 77ms/step - loss: 0.2801 - accuracy: 0.8972 - val_loss: 0.9127 - val_accuracy: 0.7567\n",
      "Epoch 165/200\n",
      "999/999 [==============================] - 72s 69ms/step - loss: 0.2833 - accuracy: 0.8990 - val_loss: 0.8474 - val_accuracy: 0.7584\n",
      "Epoch 166/200\n",
      "999/999 [==============================] - 65s 63ms/step - loss: 0.2803 - accuracy: 0.8972 - val_loss: 0.9180 - val_accuracy: 0.7564\n",
      "Epoch 167/200\n",
      "999/999 [==============================] - 68s 66ms/step - loss: 0.2777 - accuracy: 0.8983 - val_loss: 0.9235 - val_accuracy: 0.7567\n",
      "Epoch 168/200\n",
      "999/999 [==============================] - 63s 62ms/step - loss: 0.2781 - accuracy: 0.8980 - val_loss: 0.8897 - val_accuracy: 0.7612\n",
      "Epoch 169/200\n",
      "999/999 [==============================] - 71s 69ms/step - loss: 0.2745 - accuracy: 0.9022 - val_loss: 0.8602 - val_accuracy: 0.7530\n",
      "Epoch 170/200\n",
      "999/999 [==============================] - 63s 62ms/step - loss: 0.2699 - accuracy: 0.9017 - val_loss: 0.8866 - val_accuracy: 0.7561\n",
      "Epoch 171/200\n",
      "999/999 [==============================] - 76s 72ms/step - loss: 0.2671 - accuracy: 0.9029 - val_loss: 0.9261 - val_accuracy: 0.7581\n",
      "Epoch 172/200\n",
      "999/999 [==============================] - 68s 66ms/step - loss: 0.2725 - accuracy: 0.8994 - val_loss: 0.8897 - val_accuracy: 0.7559\n",
      "Epoch 173/200\n",
      "999/999 [==============================] - 71s 69ms/step - loss: 0.2654 - accuracy: 0.9044 - val_loss: 0.8972 - val_accuracy: 0.7592\n",
      "Epoch 174/200\n",
      "999/999 [==============================] - 73s 72ms/step - loss: 0.2729 - accuracy: 0.9017 - val_loss: 0.8836 - val_accuracy: 0.7640\n",
      "Epoch 175/200\n",
      "999/999 [==============================] - 64s 63ms/step - loss: 0.2654 - accuracy: 0.9041 - val_loss: 0.8913 - val_accuracy: 0.7550\n",
      "Epoch 176/200\n",
      "999/999 [==============================] - 63s 62ms/step - loss: 0.2651 - accuracy: 0.9037 - val_loss: 0.8841 - val_accuracy: 0.7604\n",
      "Epoch 177/200\n",
      "999/999 [==============================] - 71s 69ms/step - loss: 0.2648 - accuracy: 0.9064 - val_loss: 0.8805 - val_accuracy: 0.7629\n",
      "Epoch 178/200\n",
      "999/999 [==============================] - 62s 61ms/step - loss: 0.2670 - accuracy: 0.9038 - val_loss: 0.8907 - val_accuracy: 0.7542\n",
      "Epoch 179/200\n",
      "999/999 [==============================] - 64s 62ms/step - loss: 0.2658 - accuracy: 0.9033 - val_loss: 0.8963 - val_accuracy: 0.7587\n",
      "Epoch 180/200\n",
      "999/999 [==============================] - 63s 62ms/step - loss: 0.2616 - accuracy: 0.9060 - val_loss: 0.9391 - val_accuracy: 0.7542\n",
      "Epoch 181/200\n",
      "999/999 [==============================] - 62s 61ms/step - loss: 0.2629 - accuracy: 0.9047 - val_loss: 0.9298 - val_accuracy: 0.7457\n",
      "Epoch 182/200\n",
      "999/999 [==============================] - 63s 61ms/step - loss: 0.2671 - accuracy: 0.9032 - val_loss: 0.8625 - val_accuracy: 0.7595\n",
      "Epoch 183/200\n",
      "999/999 [==============================] - 72s 69ms/step - loss: 0.2560 - accuracy: 0.9074 - val_loss: 0.9037 - val_accuracy: 0.7584\n",
      "Epoch 184/200\n",
      "999/999 [==============================] - 79s 77ms/step - loss: 0.2611 - accuracy: 0.9070 - val_loss: 0.9118 - val_accuracy: 0.7595\n",
      "Epoch 185/200\n",
      "999/999 [==============================] - 72s 70ms/step - loss: 0.2547 - accuracy: 0.9061 - val_loss: 0.9293 - val_accuracy: 0.7530\n",
      "Epoch 186/200\n",
      "999/999 [==============================] - 74s 72ms/step - loss: 0.2600 - accuracy: 0.9060 - val_loss: 0.8872 - val_accuracy: 0.7604\n",
      "Epoch 187/200\n",
      "999/999 [==============================] - 70s 68ms/step - loss: 0.2480 - accuracy: 0.9099 - val_loss: 0.8529 - val_accuracy: 0.7578\n",
      "Epoch 188/200\n",
      "999/999 [==============================] - 67s 64ms/step - loss: 0.2609 - accuracy: 0.9075 - val_loss: 0.8944 - val_accuracy: 0.7553\n",
      "Epoch 189/200\n",
      "999/999 [==============================] - 63s 62ms/step - loss: 0.2704 - accuracy: 0.9030 - val_loss: 0.9247 - val_accuracy: 0.7494\n",
      "Epoch 190/200\n",
      "999/999 [==============================] - 63s 62ms/step - loss: 0.2540 - accuracy: 0.9072 - val_loss: 0.8890 - val_accuracy: 0.7595\n",
      "Epoch 191/200\n",
      "999/999 [==============================] - 78s 75ms/step - loss: 0.2477 - accuracy: 0.9094 - val_loss: 0.9242 - val_accuracy: 0.7542\n",
      "Epoch 192/200\n",
      "999/999 [==============================] - 69s 66ms/step - loss: 0.2619 - accuracy: 0.9059 - val_loss: 0.9125 - val_accuracy: 0.7542\n",
      "Epoch 193/200\n",
      "999/999 [==============================] - 71s 69ms/step - loss: 0.2393 - accuracy: 0.9135 - val_loss: 0.9140 - val_accuracy: 0.7612\n",
      "Epoch 194/200\n",
      "999/999 [==============================] - 63s 61ms/step - loss: 0.2475 - accuracy: 0.9122 - val_loss: 0.8539 - val_accuracy: 0.7629\n",
      "Epoch 195/200\n",
      "999/999 [==============================] - 66s 65ms/step - loss: 0.2392 - accuracy: 0.9110 - val_loss: 0.8770 - val_accuracy: 0.7646\n",
      "Epoch 196/200\n",
      "999/999 [==============================] - 67s 63ms/step - loss: 0.2450 - accuracy: 0.9088 - val_loss: 0.9137 - val_accuracy: 0.7646\n",
      "Epoch 197/200\n",
      "999/999 [==============================] - 73s 70ms/step - loss: 0.2460 - accuracy: 0.9123 - val_loss: 0.9438 - val_accuracy: 0.7564\n",
      "Epoch 198/200\n",
      "999/999 [==============================] - 76s 74ms/step - loss: 0.2413 - accuracy: 0.9113 - val_loss: 0.9966 - val_accuracy: 0.7511\n",
      "Epoch 199/200\n",
      "999/999 [==============================] - 67s 65ms/step - loss: 0.2433 - accuracy: 0.9117 - val_loss: 0.9205 - val_accuracy: 0.7536\n",
      "Epoch 200/200\n",
      "999/999 [==============================] - 65s 64ms/step - loss: 0.2453 - accuracy: 0.9110 - val_loss: 0.9684 - val_accuracy: 0.7547\n",
      "--- 15359.568701267242 seconds ---\n"
     ]
    }
   ],
   "source": [
    "start_time_multi = time.time()\n",
    "history = model.fit(\n",
    "    train_generator,\n",
    "    validation_data=validation_generator,\n",
    "    callbacks=[\n",
    "        model_checkpoint,\n",
    "        #lr_scheduler,\n",
    "    ],\n",
    "    max_queue_size=1000,\n",
    "    use_multiprocessing=True,\n",
    "    workers=10,\n",
    "    class_weight=class_weight,\n",
    "    epochs=EPOCHS\n",
    ")\n",
    "final_time_multi = time.time() - start_time_multi\n",
    "print(\"--- %s seconds ---\" % (final_time_multi))"
   ]
  },
  {
   "cell_type": "code",
   "execution_count": 20,
   "id": "a945dc1e",
   "metadata": {
    "execution": {
     "iopub.execute_input": "2023-05-24T21:50:08.020455Z",
     "iopub.status.busy": "2023-05-24T21:50:08.019960Z",
     "iopub.status.idle": "2023-05-24T21:50:08.421020Z",
     "shell.execute_reply": "2023-05-24T21:50:08.419889Z"
    },
    "papermill": {
     "duration": 10.813036,
     "end_time": "2023-05-24T21:50:08.423886",
     "exception": false,
     "start_time": "2023-05-24T21:49:57.610850",
     "status": "completed"
    },
    "tags": []
   },
   "outputs": [
    {
     "data": {
      "image/png": "[encoded data removed]",
      "text/plain": [
       "<Figure size 800x800 with 2 Axes>"
      ]
     },
     "metadata": {},
     "output_type": "display_data"
    }
   ],
   "source": [
    "plot_result()"
   ]
  },
  {
   "cell_type": "markdown",
   "id": "db06a4a6",
   "metadata": {
    "papermill": {
     "duration": 10.718663,
     "end_time": "2023-05-24T21:50:29.122270",
     "exception": false,
     "start_time": "2023-05-24T21:50:18.403607",
     "status": "completed"
    },
    "tags": []
   },
   "source": [
    "## Résultat à soumettre"
   ]
  },
  {
   "cell_type": "code",
   "execution_count": 21,
   "id": "4eeee660",
   "metadata": {
    "execution": {
     "iopub.execute_input": "2023-05-24T21:50:49.125832Z",
     "iopub.status.busy": "2023-05-24T21:50:49.124930Z",
     "iopub.status.idle": "2023-05-24T21:50:49.474692Z",
     "shell.execute_reply": "2023-05-24T21:50:49.473639Z"
    },
    "papermill": {
     "duration": 10.414745,
     "end_time": "2023-05-24T21:50:49.477181",
     "exception": false,
     "start_time": "2023-05-24T21:50:39.062436",
     "status": "completed"
    },
    "tags": []
   },
   "outputs": [
    {
     "data": {
      "text/plain": [
       "<tensorflow.python.checkpoint.checkpoint.CheckpointLoadStatus at 0x788b9c73a250>"
      ]
     },
     "execution_count": 21,
     "metadata": {},
     "output_type": "execute_result"
    }
   ],
   "source": [
    "model.load_weights(best_model_path)"
   ]
  },
  {
   "cell_type": "code",
   "execution_count": 22,
   "id": "7230b174",
   "metadata": {
    "execution": {
     "iopub.execute_input": "2023-05-24T21:51:10.292613Z",
     "iopub.status.busy": "2023-05-24T21:51:10.291510Z",
     "iopub.status.idle": "2023-05-24T21:51:10.491348Z",
     "shell.execute_reply": "2023-05-24T21:51:10.489982Z"
    },
    "papermill": {
     "duration": 10.345421,
     "end_time": "2023-05-24T21:51:10.494468",
     "exception": false,
     "start_time": "2023-05-24T21:51:00.149047",
     "status": "completed"
    },
    "tags": []
   },
   "outputs": [],
   "source": [
    "X_test = np.load(working_dir + 'test.npy', allow_pickle=True)\n",
    "X_test = X_test.astype('float32') / 255"
   ]
  },
  {
   "cell_type": "code",
   "execution_count": 23,
   "id": "8c390580",
   "metadata": {
    "execution": {
     "iopub.execute_input": "2023-05-24T21:51:30.866542Z",
     "iopub.status.busy": "2023-05-24T21:51:30.866154Z",
     "iopub.status.idle": "2023-05-24T21:51:34.113672Z",
     "shell.execute_reply": "2023-05-24T21:51:34.112629Z"
    },
    "papermill": {
     "duration": 13.688414,
     "end_time": "2023-05-24T21:51:34.116238",
     "exception": false,
     "start_time": "2023-05-24T21:51:20.427824",
     "status": "completed"
    },
    "tags": []
   },
   "outputs": [
    {
     "name": "stdout",
     "output_type": "stream",
     "text": [
      "116/116 [==============================] - 3s 11ms/step\n"
     ]
    }
   ],
   "source": [
    "res = model.predict(X_test).argmax(axis=1)\n",
    "df = pd.DataFrame({\"Category\":res})\n",
    "df.to_csv(\"submission.csv\", index_label=\"Id\")"
   ]
  },
  {
   "cell_type": "code",
   "execution_count": 24,
   "id": "cb64bb4a",
   "metadata": {
    "execution": {
     "iopub.execute_input": "2023-05-24T21:51:54.204523Z",
     "iopub.status.busy": "2023-05-24T21:51:54.204128Z",
     "iopub.status.idle": "2023-05-24T21:51:55.556711Z",
     "shell.execute_reply": "2023-05-24T21:51:55.555359Z"
    },
    "papermill": {
     "duration": 11.270442,
     "end_time": "2023-05-24T21:51:55.559914",
     "exception": false,
     "start_time": "2023-05-24T21:51:44.289472",
     "status": "completed"
    },
    "tags": []
   },
   "outputs": [
    {
     "name": "stdout",
     "output_type": "stream",
     "text": [
      "Id,Category\r\n",
      "0,3\r\n",
      "1,4\r\n",
      "2,5\r\n",
      "3,1\r\n",
      "4,3\r\n",
      "5,0\r\n",
      "6,3\r\n",
      "7,3\r\n",
      "8,5\r\n"
     ]
    }
   ],
   "source": [
    "!head submission.csv"
   ]
  },
  {
   "cell_type": "code",
   "execution_count": 25,
   "id": "5408be31",
   "metadata": {
    "execution": {
     "iopub.execute_input": "2023-05-24T21:52:16.158571Z",
     "iopub.status.busy": "2023-05-24T21:52:16.158134Z",
     "iopub.status.idle": "2023-05-24T21:52:16.167823Z",
     "shell.execute_reply": "2023-05-24T21:52:16.166647Z"
    },
    "papermill": {
     "duration": 10.305127,
     "end_time": "2023-05-24T21:52:16.170297",
     "exception": false,
     "start_time": "2023-05-24T21:52:05.865170",
     "status": "completed"
    },
    "tags": []
   },
   "outputs": [
    {
     "data": {
      "text/html": [
       "<a href='submission.csv' target='_blank'>submission.csv</a><br>"
      ],
      "text/plain": [
       "/kaggle/working/submission.csv"
      ]
     },
     "execution_count": 25,
     "metadata": {},
     "output_type": "execute_result"
    }
   ],
   "source": [
    "import os\n",
    "os.chdir(r'/kaggle/working')\n",
    "from IPython.display import FileLink\n",
    "FileLink(r'submission.csv')"
   ]
  },
  {
   "cell_type": "code",
   "execution_count": null,
   "id": "15b4ef32",
   "metadata": {
    "papermill": {
     "duration": 10.566993,
     "end_time": "2023-05-24T21:52:36.583186",
     "exception": false,
     "start_time": "2023-05-24T21:52:26.016193",
     "status": "completed"
    },
    "tags": []
   },
   "outputs": [],
   "source": []
  }
 ],
 "metadata": {
  "kernelspec": {
   "display_name": "Python 3",
   "language": "python",
   "name": "python3"
  },
  "language_info": {
   "codemirror_mode": {
    "name": "ipython",
    "version": 3
   },
   "file_extension": ".py",
   "mimetype": "text/x-python",
   "name": "python",
   "nbconvert_exporter": "python",
   "pygments_lexer": "ipython3",
   "version": "3.7.12"
  },
  "papermill": {
   "default_parameters": {},
   "duration": 15597.458769,
   "end_time": "2023-05-24T21:52:49.706826",
   "environment_variables": {},
   "exception": null,
   "input_path": "__notebook__.ipynb",
   "output_path": "__notebook__.ipynb",
   "parameters": {},
   "start_time": "2023-05-24T17:32:52.248057",
   "version": "2.4.0"
  }
 },
 "nbformat": 4,
 "nbformat_minor": 5
}
